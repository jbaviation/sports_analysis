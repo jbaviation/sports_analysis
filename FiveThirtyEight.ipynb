{
 "cells": [
  {
   "cell_type": "markdown",
   "id": "7765e744-5924-47ff-a5e9-1bb9cd34c8cc",
   "metadata": {},
   "source": [
    "# FiveThirtyEight Picks\n",
    "Webscrape for 538 picks to determine favorable odds in comparison to CBS spreads.\n"
   ]
  },
  {
   "cell_type": "code",
   "execution_count": 1,
   "id": "c15b2f43-63a2-4aaa-84ec-67c30839c8de",
   "metadata": {},
   "outputs": [],
   "source": [
    "from bs4 import BeautifulSoup\n",
    "import requests\n",
    "import re"
   ]
  },
  {
   "cell_type": "code",
   "execution_count": 2,
   "id": "e62597bd-a5c3-4d5b-9645-f831be4a1159",
   "metadata": {},
   "outputs": [],
   "source": [
    "page = requests.get('https://projects.fivethirtyeight.com/2021-nfl-predictions/games/')\n",
    "soup = BeautifulSoup(page.content, 'html.parser')"
   ]
  },
  {
   "cell_type": "code",
   "execution_count": 29,
   "id": "5c0b7dff-796f-4660-8b95-a07552679805",
   "metadata": {},
   "outputs": [
    {
     "name": "stdout",
     "output_type": "stream",
     "text": [
      "<h3 class=\"h3\">Week 1</h3>\n",
      "<h3 class=\"h3\">Week 2</h3>\n",
      "<h3 class=\"h3\">Week 3</h3>\n",
      "<h3 class=\"h3\">Week 4</h3>\n",
      "<h3 class=\"h3\">Week 5</h3>\n",
      "<h3 class=\"h3\">Week 6</h3>\n",
      "<h3 class=\"h3\">Week 7</h3>\n",
      "<h3 class=\"h3\">Week 8</h3>\n",
      "<h3 class=\"h3\">Week 9</h3>\n",
      "<h3 class=\"h3\">Week 10</h3>\n",
      "<h3 class=\"h3\">Week 11</h3>\n",
      "<h3 class=\"h3\">Week 12</h3>\n",
      "<h3 class=\"h3\">Week 13</h3>\n",
      "<h3 class=\"h3\">Week 14</h3>\n",
      "<h3 class=\"h3\">Week 15</h3>\n",
      "<h3 class=\"h3\">Week 16</h3>\n",
      "<h3 class=\"h3\">Week 17</h3>\n",
      "<h3 class=\"h3\">Week 18</h3>\n"
     ]
    }
   ],
   "source": [
    "week_no = 1\n",
    "def get_week(week=week_no):\n",
    "    block = soup.find_all('section', attrs={'class': 'week'})\n",
    "    print(block)\n",
    "# for table in soup.find_all('table', attrs={'class': 'game-body'}):\n",
    "#     for team in table.find_all('tr', attrs={'class': 'tr'}):\n",
    "#         print(team.find(class_='td text team').text)\n",
    "# for block in soup.find(class_= 'week').find(class_='h3').text\n",
    "for block in soup.find_all(class_='h3'):\n",
    "#     [print(b) for b in block]\n",
    "    print(block)"
   ]
  }
 ],
 "metadata": {
  "kernelspec": {
   "display_name": "Python 3",
   "language": "python",
   "name": "python3"
  },
  "language_info": {
   "codemirror_mode": {
    "name": "ipython",
    "version": 3
   },
   "file_extension": ".py",
   "mimetype": "text/x-python",
   "name": "python",
   "nbconvert_exporter": "python",
   "pygments_lexer": "ipython3",
   "version": "3.8.8"
  }
 },
 "nbformat": 4,
 "nbformat_minor": 5
}
