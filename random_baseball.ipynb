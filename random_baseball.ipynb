{
 "cells": [
  {
   "cell_type": "code",
   "execution_count": 12,
   "metadata": {},
   "outputs": [],
   "source": [
    "import pandas as pd\n",
    "df = pd.read_html('https://www.lineups.com/mlb/lineups')"
   ]
  },
  {
   "cell_type": "code",
   "execution_count": 35,
   "metadata": {},
   "outputs": [],
   "source": [
    "pirates = df[14]\n",
    "\n",
    "pirates['Bats'] = pirates['Pirates Hitters'].str.extract(r'\\(([A-Z])\\)')\n",
    "pirates['Position'] = pirates['Pirates Hitters'].str.extract(r'(\\w+) \\(')\n",
    "pirates['Name'] = pirates['Pirates Hitters'].str.extract(r'^\\d+[\\. ]+(\\w+[\\. ]+[\\w\\-]+)')"
   ]
  },
  {
   "cell_type": "code",
   "execution_count": 57,
   "metadata": {},
   "outputs": [
    {
     "data": {
      "text/plain": [
       "0     1.  E. Gonzalez  E. Gonzalez  ,  SS (R)\n",
       "1         2.  C. Tucker  C. Tucker  ,  CF (S)\n",
       "2         3.  K. Newman  K. Newman  ,  2B (R)\n",
       "3             4.  J. Bell  J. Bell  ,  1B (S)\n",
       "4    5.  J. Stallings  J. Stallings  ,  C (R)\n",
       "5           6.  C. Moran  C. Moran  ,  DH (L)\n",
       "6           7.  K. Hayes  K. Hayes  ,  3B (R)\n",
       "7       8.  A. Frazier  A. Frazier  ,  LF (L)\n",
       "8           9.  J. Osuna  J. Osuna  ,  RF (R)\n",
       "Name: Pirates Hitters, dtype: object"
      ]
     },
     "execution_count": 57,
     "metadata": {},
     "output_type": "execute_result"
    }
   ],
   "source": [
    "pirates['Pirates Hitters'].str.strip()"
   ]
  },
  {
   "cell_type": "code",
   "execution_count": 51,
   "metadata": {},
   "outputs": [],
   "source": [
    "pirates_pitchers = df[15]\n",
    "\n",
    "pirates_pitchers['Throws'] = pirates_pitchers['Pirates Pitchers'].str.extract(r'\\((\\w+)\\)')"
   ]
  },
  {
   "cell_type": "code",
   "execution_count": 52,
   "metadata": {},
   "outputs": [
    {
     "data": {
      "text/html": [
       "<div>\n",
       "<style scoped>\n",
       "    .dataframe tbody tr th:only-of-type {\n",
       "        vertical-align: middle;\n",
       "    }\n",
       "\n",
       "    .dataframe tbody tr th {\n",
       "        vertical-align: top;\n",
       "    }\n",
       "\n",
       "    .dataframe thead th {\n",
       "        text-align: right;\n",
       "    }\n",
       "</style>\n",
       "<table border=\"1\" class=\"dataframe\">\n",
       "  <thead>\n",
       "    <tr style=\"text-align: right;\">\n",
       "      <th></th>\n",
       "      <th>Pirates Pitchers</th>\n",
       "      <th>ERA</th>\n",
       "      <th>K/9</th>\n",
       "      <th>BB/9</th>\n",
       "      <th>Salary</th>\n",
       "      <th>Proj</th>\n",
       "      <th>Throws</th>\n",
       "    </tr>\n",
       "  </thead>\n",
       "  <tbody>\n",
       "    <tr>\n",
       "      <th>0</th>\n",
       "      <td>J. Musgrove  J. Musgrove  (R),  0-3</td>\n",
       "      <td>6.75</td>\n",
       "      <td>10.43</td>\n",
       "      <td>6.75</td>\n",
       "      <td>$5,700  $6,700</td>\n",
       "      <td>7.6 pts  0 pts  pts</td>\n",
       "      <td>R</td>\n",
       "    </tr>\n",
       "  </tbody>\n",
       "</table>\n",
       "</div>"
      ],
      "text/plain": [
       "                      Pirates Pitchers   ERA    K/9  BB/9          Salary  \\\n",
       "0  J. Musgrove  J. Musgrove  (R),  0-3  6.75  10.43  6.75  $5,700  $6,700   \n",
       "\n",
       "                  Proj Throws  \n",
       "0  7.6 pts  0 pts  pts      R  "
      ]
     },
     "execution_count": 52,
     "metadata": {},
     "output_type": "execute_result"
    }
   ],
   "source": [
    "pirates_pitchers"
   ]
  }
 ],
 "metadata": {
  "kernelspec": {
   "display_name": "Python 3",
   "language": "python",
   "name": "python3"
  },
  "language_info": {
   "codemirror_mode": {
    "name": "ipython",
    "version": 3
   },
   "file_extension": ".py",
   "mimetype": "text/x-python",
   "name": "python",
   "nbconvert_exporter": "python",
   "pygments_lexer": "ipython3",
   "version": "3.8.8"
  }
 },
 "nbformat": 4,
 "nbformat_minor": 4
}
