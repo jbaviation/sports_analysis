{
 "cells": [
  {
   "cell_type": "markdown",
   "metadata": {},
   "source": [
    "# Sports Stats Exploration\n",
    "This notebook is meant for general sports data exploration.  Many of these cells will also be located in other documents; however, the goal is to use this for mostly random curiousity-based explorations."
   ]
  },
  {
   "cell_type": "code",
   "execution_count": 2,
   "metadata": {},
   "outputs": [],
   "source": [
    "import pandas as pd\n",
    "import numpy as np\n",
    "import matplotlib.pyplot as plt"
   ]
  },
  {
   "cell_type": "markdown",
   "metadata": {},
   "source": [
    "### Basketball\n",
    "#### Michael vs LeBron"
   ]
  },
  {
   "cell_type": "code",
   "execution_count": 3,
   "metadata": {},
   "outputs": [],
   "source": [
    "# LeBron data\n",
    "df = (pd.read_html('https://www.basketball-reference.com/players/j/jamesle01/gamelog-playoffs/')[7])\n",
    "df['W/L'] = df['Unnamed: 8'].str.extract(r'([WL])')\n",
    "df_lebron = df.copy()\n",
    "\n",
    "lebron_finals_win_pct = df[df['Series']=='FIN']['W/L'].value_counts('W')\n",
    "lebron_finals_win_pct_mia = df[(df['Series']=='FIN') & (df['Tm']=='MIA')]['W/L'].value_counts()\n",
    "\n",
    "\n",
    "# MJ data\n",
    "df = pd.read_html('https://www.basketball-reference.com/players/j/jordami01/gamelog-playoffs/')[7]\n",
    "df = df[(df['Rk'] != 'Rk')]\n",
    "df['W/L'] = df['Unnamed: 8'].str.extract(r'([WL])')\n",
    "mj_finals_win_pct = df[df['Series']=='FIN']['W/L'].value_counts('W')"
   ]
  },
  {
   "cell_type": "code",
   "execution_count": 6,
   "metadata": {},
   "outputs": [
    {
     "data": {
      "text/plain": [
       "L    0.603774\n",
       "W    0.396226\n",
       "Name: W/L, dtype: float64"
      ]
     },
     "execution_count": 6,
     "metadata": {},
     "output_type": "execute_result"
    }
   ],
   "source": [
    "lebron_finals_win_pct"
   ]
  }
 ],
 "metadata": {
  "kernelspec": {
   "display_name": "Python 3",
   "language": "python",
   "name": "python3"
  },
  "language_info": {
   "codemirror_mode": {
    "name": "ipython",
    "version": 3
   },
   "file_extension": ".py",
   "mimetype": "text/x-python",
   "name": "python",
   "nbconvert_exporter": "python",
   "pygments_lexer": "ipython3",
   "version": "3.7.3"
  }
 },
 "nbformat": 4,
 "nbformat_minor": 2
}
